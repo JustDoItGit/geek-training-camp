{
 "cells": [
  {
   "cell_type": "code",
   "execution_count": 1,
   "metadata": {
    "id": "ATxSoTb91vLd"
   },
   "outputs": [],
   "source": [
    "%load_ext Cython"
   ]
  },
  {
   "cell_type": "code",
   "execution_count": 2,
   "metadata": {
    "id": "qozhs0KY1vLi"
   },
   "outputs": [],
   "source": [
    "import numpy as np\n",
    "import pandas as pd\n",
    "from collections import defaultdict"
   ]
  },
  {
   "cell_type": "code",
   "execution_count": 3,
   "metadata": {
    "id": "UWk5rqUb1vLi"
   },
   "outputs": [],
   "source": [
    "y = np.random.randint(2, size=(5000, 1))\n",
    "x = np.random.randint(10, size=(5000, 1))\n",
    "data = pd.DataFrame(np.concatenate([y, x], axis=1), columns=['y', 'x'])\n",
    "data_np = data.values"
   ]
  },
  {
   "cell_type": "code",
   "execution_count": 4,
   "metadata": {
    "id": "Hnu7AxPG1vLj"
   },
   "outputs": [],
   "source": [
    "def target_mean_v1(data, y_name, x_name):\n",
    "    result = np.zeros(data.shape[0])\n",
    "    for i in range(data.shape[0]):\n",
    "        groupby_result = data[data.index != i].groupby(\n",
    "            [x_name], as_index=False).agg(['mean', 'count'])\n",
    "        result[i] = groupby_result.loc[groupby_result.index ==\n",
    "                                       data.loc[i, x_name], (y_name, 'mean')]\n",
    "    return result"
   ]
  },
  {
   "cell_type": "code",
   "execution_count": 5,
   "metadata": {
    "colab": {
     "base_uri": "https://localhost:8080/"
    },
    "executionInfo": {
     "elapsed": 26215,
     "status": "ok",
     "timestamp": 1609821574768,
     "user": {
      "displayName": "bi niu",
      "photoUrl": "https://lh3.googleusercontent.com/a-/AOh14GgRFKECX8bkxygWhYkSDxT_XrxkxDNbbpPjH6tw=s64",
      "userId": "14156897220964955144"
     },
     "user_tz": -480
    },
    "id": "288bx9Dp1vLj",
    "outputId": "f995772e-35c2-4c09-cade-70fabace2e38"
   },
   "outputs": [
    {
     "name": "stdout",
     "output_type": "stream",
     "text": [
      "CPU times: user 15.6 s, sys: 40 ms, total: 15.6 s\n",
      "Wall time: 15.7 s\n"
     ]
    }
   ],
   "source": [
    "%%time\n",
    "result_1 = target_mean_v1(data, 'y', 'x')"
   ]
  },
  {
   "cell_type": "code",
   "execution_count": 6,
   "metadata": {
    "id": "860EOFzV1vLk"
   },
   "outputs": [],
   "source": [
    "def target_mean_v2(data, y_name, x_name):\n",
    "    result = np.zeros(data.shape[0])\n",
    "    value_dict = dict()\n",
    "    count_dict = dict()\n",
    "    for i in range(data.shape[0]):\n",
    "        if data.loc[i, x_name] not in value_dict.keys():\n",
    "            value_dict[data.loc[i, x_name]] = data.loc[i, y_name]\n",
    "            count_dict[data.loc[i, x_name]] = 1\n",
    "        else:\n",
    "            value_dict[data.loc[i, x_name]] += data.loc[i, y_name]\n",
    "            count_dict[data.loc[i, x_name]] += 1\n",
    "    for i in range(data.shape[0]):\n",
    "        result[i] = (value_dict[data.loc[i, x_name]] - data.loc[i,\n",
    "                                                                y_name]) / (count_dict[data.loc[i, x_name]] - 1)\n",
    "    return result"
   ]
  },
  {
   "cell_type": "code",
   "execution_count": 7,
   "metadata": {
    "colab": {
     "base_uri": "https://localhost:8080/"
    },
    "executionInfo": {
     "elapsed": 2246,
     "status": "ok",
     "timestamp": 1609821589169,
     "user": {
      "displayName": "bi niu",
      "photoUrl": "https://lh3.googleusercontent.com/a-/AOh14GgRFKECX8bkxygWhYkSDxT_XrxkxDNbbpPjH6tw=s64",
      "userId": "14156897220964955144"
     },
     "user_tz": -480
    },
    "id": "OzTaoDgb1vLk",
    "outputId": "4a6b4c05-55d8-4eb8-8945-53d4633384d1"
   },
   "outputs": [
    {
     "name": "stdout",
     "output_type": "stream",
     "text": [
      "233 ms ± 1.59 ms per loop (mean ± std. dev. of 7 runs, 1 loop each)\n"
     ]
    }
   ],
   "source": [
    "%%timeit\n",
    "result_2 = target_mean_v2(data, 'y', 'x')"
   ]
  },
  {
   "cell_type": "code",
   "execution_count": 8,
   "metadata": {
    "id": "WrYrPIGM1vLl"
   },
   "outputs": [],
   "source": [
    "def target_mean_v3(y_np, x_np):\n",
    "    length = len(x_np)\n",
    "    result = np.zeros(length)\n",
    "    value_dict = defaultdict(int)\n",
    "    count_dict = defaultdict(int)\n",
    "    for i in range(length):\n",
    "        value_dict[x_np[i]] += y_np[i]\n",
    "        count_dict[x_np[i]] += 1\n",
    "    for i in range(length):\n",
    "        result[i] = (value_dict[x_np[i]] - y_np[i]) / (count_dict[x_np[i]] - 1)\n",
    "    return result"
   ]
  },
  {
   "cell_type": "code",
   "execution_count": 9,
   "metadata": {
    "id": "WrYrPIGM1vLl"
   },
   "outputs": [
    {
     "name": "stdout",
     "output_type": "stream",
     "text": [
      "8.38 ms ± 44 µs per loop (mean ± std. dev. of 7 runs, 100 loops each)\n"
     ]
    }
   ],
   "source": [
    "%%timeit\n",
    "result_3 = target_mean_v3(data['y'].values, data['x'].values)"
   ]
  },
  {
   "cell_type": "code",
   "execution_count": 10,
   "metadata": {
    "id": "WrYrPIGM1vLl"
   },
   "outputs": [],
   "source": [
    "def target_mean_v3(y_np, x_np):\n",
    "    length = len(x_np)\n",
    "    result = np.zeros(length)\n",
    "    value_dict = defaultdict(int)\n",
    "    count_dict = defaultdict(int)\n",
    "    for x, y in zip(x_np, y_np):\n",
    "        value_dict[x] += y\n",
    "        count_dict[x] += 1\n",
    "    result = [(value_dict[x] - y) / (count_dict[x] - 1) for x, y in zip(x_np, y_np)]\n",
    "    return result"
   ]
  },
  {
   "cell_type": "code",
   "execution_count": 11,
   "metadata": {
    "colab": {
     "base_uri": "https://localhost:8080/"
    },
    "executionInfo": {
     "elapsed": 5648,
     "status": "ok",
     "timestamp": 1609821602984,
     "user": {
      "displayName": "bi niu",
      "photoUrl": "https://lh3.googleusercontent.com/a-/AOh14GgRFKECX8bkxygWhYkSDxT_XrxkxDNbbpPjH6tw=s64",
      "userId": "14156897220964955144"
     },
     "user_tz": -480
    },
    "id": "9UeWRU0W1vLl",
    "outputId": "acd04c99-6363-45cb-b92f-c6b9ace8ce86"
   },
   "outputs": [
    {
     "name": "stdout",
     "output_type": "stream",
     "text": [
      "6.17 ms ± 67.2 µs per loop (mean ± std. dev. of 7 runs, 100 loops each)\n"
     ]
    }
   ],
   "source": [
    "%%timeit\n",
    "result_3 = target_mean_v3(data['y'].values, data['x'].values)"
   ]
  },
  {
   "cell_type": "code",
   "execution_count": 12,
   "metadata": {},
   "outputs": [],
   "source": [
    "result_3 = target_mean_v3(data['y'].values, data['x'].values)"
   ]
  },
  {
   "cell_type": "code",
   "execution_count": 13,
   "metadata": {},
   "outputs": [
    {
     "data": {
      "text/plain": [
       "0.0"
      ]
     },
     "execution_count": 13,
     "metadata": {},
     "output_type": "execute_result"
    }
   ],
   "source": [
    "np.linalg.norm(result_1 - result_3)"
   ]
  },
  {
   "cell_type": "code",
   "execution_count": 14,
   "metadata": {
    "id": "Vh8s2AxL1vLl"
   },
   "outputs": [],
   "source": [
    "%%cython --cplus\n",
    "\n",
    "cimport numpy as cnp\n",
    "from libcpp.vector cimport vector\n",
    "from libcpp.unordered_map cimport unordered_map\n",
    "\n",
    "cpdef target_mean_v3cy(cnp.ndarray[long] y_np, cnp.ndarray[long] x_np, cnp.ndarray[double] result):\n",
    "    cdef int length = y_np.shape[0]\n",
    "    cdef unordered_map[int, int] value_dict\n",
    "    cdef unordered_map[int, int] count_dict\n",
    "    cdef int i\n",
    "    for i in range(length):\n",
    "        value_dict[x_np[i]] = value_dict[x_np[i]] + y_np[i]\n",
    "        count_dict[x_np[i]] = count_dict[x_np[i]] + 1\n",
    "    for i in range(length):\n",
    "        result[i] = (value_dict[x_np[i]] - y_np[i]) / (count_dict[x_np[i]] - 1)\n",
    "    return result"
   ]
  },
  {
   "cell_type": "code",
   "execution_count": 15,
   "metadata": {
    "colab": {
     "base_uri": "https://localhost:8080/"
    },
    "executionInfo": {
     "elapsed": 3469,
     "status": "ok",
     "timestamp": 1609821618326,
     "user": {
      "displayName": "bi niu",
      "photoUrl": "https://lh3.googleusercontent.com/a-/AOh14GgRFKECX8bkxygWhYkSDxT_XrxkxDNbbpPjH6tw=s64",
      "userId": "14156897220964955144"
     },
     "user_tz": -480
    },
    "id": "rWZMqP1t1vLl",
    "outputId": "6d8871c9-18ce-462c-8835-65afad0a0c73"
   },
   "outputs": [
    {
     "name": "stdout",
     "output_type": "stream",
     "text": [
      "180 µs ± 721 ns per loop (mean ± std. dev. of 7 runs, 10000 loops each)\n"
     ]
    }
   ],
   "source": [
    "%%timeit\n",
    "result_tmp = np.zeros(data.shape[0])\n",
    "result_3cy = target_mean_v3cy(data['y'].values, data['x'].values, result_tmp)"
   ]
  },
  {
   "cell_type": "code",
   "execution_count": 16,
   "metadata": {
    "colab": {
     "base_uri": "https://localhost:8080/"
    },
    "executionInfo": {
     "elapsed": 3499,
     "status": "ok",
     "timestamp": 1609821634136,
     "user": {
      "displayName": "bi niu",
      "photoUrl": "https://lh3.googleusercontent.com/a-/AOh14GgRFKECX8bkxygWhYkSDxT_XrxkxDNbbpPjH6tw=s64",
      "userId": "14156897220964955144"
     },
     "user_tz": -480
    },
    "id": "wznD7fJ01vLm",
    "outputId": "f47a4125-621d-46e2-a4f8-243a19133e77"
   },
   "outputs": [],
   "source": [
    "result_tmp = np.zeros(data.shape[0])\n",
    "result_3cy = target_mean_v3cy(data['y'].values, data['x'].values, result_tmp)"
   ]
  },
  {
   "cell_type": "code",
   "execution_count": 17,
   "metadata": {
    "id": "XDU8vRVV1vLm"
   },
   "outputs": [
    {
     "data": {
      "text/plain": [
       "0.0"
      ]
     },
     "execution_count": 17,
     "metadata": {},
     "output_type": "execute_result"
    }
   ],
   "source": [
    "np.linalg.norm(result_1 - result_3cy)"
   ]
  },
  {
   "cell_type": "code",
   "execution_count": 20,
   "metadata": {
    "id": "Dn_ViBCr1vLn"
   },
   "outputs": [],
   "source": [
    "%%cython --cplus\n",
    "\n",
    "cimport cython\n",
    "cimport numpy as cnp\n",
    "from libcpp.unordered_map cimport unordered_map\n",
    "\n",
    "@cython.boundscheck(False)\n",
    "@cython.wraparound(False)\n",
    "cpdef target_mean_v3mv(cnp.ndarray[long] y_np, cnp.ndarray[long] x_np, cnp.ndarray[double] result):\n",
    "    cdef int length = y_np.shape[0]\n",
    "    cdef unordered_map[int, int] value_dict\n",
    "    cdef unordered_map[int, int] count_dict\n",
    "    cdef int i\n",
    "    for i in range(length):\n",
    "        value_dict[x_np[i]] = value_dict[x_np[i]] + y_np[i]\n",
    "        count_dict[x_np[i]] = count_dict[x_np[i]] + 1\n",
    "    for i in range(length):\n",
    "        result[i] = (value_dict[x_np[i]] - y_np[i]) / (count_dict[x_np[i]] - 1)\n",
    "    return result"
   ]
  },
  {
   "cell_type": "code",
   "execution_count": 21,
   "metadata": {
    "colab": {
     "base_uri": "https://localhost:8080/"
    },
    "executionInfo": {
     "elapsed": 16119,
     "status": "ok",
     "timestamp": 1609821667770,
     "user": {
      "displayName": "bi niu",
      "photoUrl": "https://lh3.googleusercontent.com/a-/AOh14GgRFKECX8bkxygWhYkSDxT_XrxkxDNbbpPjH6tw=s64",
      "userId": "14156897220964955144"
     },
     "user_tz": -480
    },
    "id": "NRunZJgF1vLo",
    "outputId": "7fea6204-0ecf-4826-b7cd-b5c153cf7a63"
   },
   "outputs": [
    {
     "name": "stdout",
     "output_type": "stream",
     "text": [
      "183 µs ± 2 µs per loop (mean ± std. dev. of 7 runs, 10000 loops each)\n"
     ]
    }
   ],
   "source": [
    "%%timeit\n",
    "result_tmp = np.zeros(data.shape[0])\n",
    "result_3mv = target_mean_v3mv(data['y'].values, data['x'].values, result_tmp)"
   ]
  },
  {
   "cell_type": "code",
   "execution_count": 22,
   "metadata": {
    "colab": {
     "base_uri": "https://localhost:8080/"
    },
    "executionInfo": {
     "elapsed": 16490,
     "status": "ok",
     "timestamp": 1609821670258,
     "user": {
      "displayName": "bi niu",
      "photoUrl": "https://lh3.googleusercontent.com/a-/AOh14GgRFKECX8bkxygWhYkSDxT_XrxkxDNbbpPjH6tw=s64",
      "userId": "14156897220964955144"
     },
     "user_tz": -480
    },
    "id": "7tJbPZ-s1vLo",
    "outputId": "2891cdf7-5d3e-407b-ca38-ad86cd37e559"
   },
   "outputs": [
    {
     "data": {
      "text/plain": [
       "0.0"
      ]
     },
     "execution_count": 22,
     "metadata": {},
     "output_type": "execute_result"
    }
   ],
   "source": [
    "result_tmp = np.zeros(data.shape[0])\n",
    "result_3mv = target_mean_v3mv(data['y'].values, data['x'].values, result_tmp)\n",
    "np.linalg.norm(result_1 - result_3mv)"
   ]
  },
  {
   "cell_type": "code",
   "execution_count": 23,
   "metadata": {
    "id": "caX09jY21vLo"
   },
   "outputs": [],
   "source": [
    "%%cython --cplus\n",
    "\n",
    "cimport cython\n",
    "cimport numpy as cnp\n",
    "from libcpp.unordered_map cimport unordered_map\n",
    "\n",
    "@cython.boundscheck(False)\n",
    "@cython.wraparound(False)\n",
    "cpdef target_mean_v3mv2(long[::1] y_np, long[::1] x_np, double[::1] result, int length):\n",
    "    cdef unordered_map[int, int] value_dict\n",
    "    cdef unordered_map[int, int] count_dict\n",
    "    cdef int i\n",
    "    for i in range(length):\n",
    "        value_dict[x_np[i]] = value_dict[x_np[i]] + y_np[i]\n",
    "        count_dict[x_np[i]] = count_dict[x_np[i]] + 1\n",
    "    for i in range(length):\n",
    "        result[i] = (value_dict[x_np[i]] - y_np[i]) / (count_dict[x_np[i]] - 1)\n",
    "    return result"
   ]
  },
  {
   "cell_type": "code",
   "execution_count": 24,
   "metadata": {
    "colab": {
     "base_uri": "https://localhost:8080/"
    },
    "executionInfo": {
     "elapsed": 3044,
     "status": "ok",
     "timestamp": 1609821873052,
     "user": {
      "displayName": "bi niu",
      "photoUrl": "https://lh3.googleusercontent.com/a-/AOh14GgRFKECX8bkxygWhYkSDxT_XrxkxDNbbpPjH6tw=s64",
      "userId": "14156897220964955144"
     },
     "user_tz": -480
    },
    "id": "0fYlTlv51vLp",
    "outputId": "8bbe000b-533c-455d-8038-36f59beaead0"
   },
   "outputs": [
    {
     "name": "stdout",
     "output_type": "stream",
     "text": [
      "173 µs ± 252 ns per loop (mean ± std. dev. of 7 runs, 10000 loops each)\n"
     ]
    }
   ],
   "source": [
    "%%timeit\n",
    "length = data.shape[0]\n",
    "result_tmp = np.zeros(data.shape[0])\n",
    "result_3mv2 = target_mean_v3mv2(data['y'].values.copy(), data['x'].values.copy(), result_tmp, length)"
   ]
  },
  {
   "cell_type": "code",
   "execution_count": 25,
   "metadata": {
    "id": "eqXydGph2RPe"
   },
   "outputs": [
    {
     "data": {
      "text/plain": [
       "0.0"
      ]
     },
     "execution_count": 25,
     "metadata": {},
     "output_type": "execute_result"
    }
   ],
   "source": [
    "length = data.shape[0]\n",
    "result_tmp = np.zeros(data.shape[0])\n",
    "result_3mv2 = target_mean_v3mv2(data['y'].values.copy(), data['x'].values.copy(), result_tmp, length)\n",
    "np.linalg.norm(result_1 - result_3mv2)"
   ]
  },
  {
   "cell_type": "code",
   "execution_count": 42,
   "metadata": {},
   "outputs": [],
   "source": [
    "%%cython --cplus\n",
    "\n",
    "cimport cython\n",
    "cimport numpy as cnp\n",
    "from cython.parallel import prange\n",
    "from libcpp.unordered_map cimport unordered_map\n",
    "\n",
    "@cython.boundscheck(False)\n",
    "@cython.wraparound(False)\n",
    "cpdef target_mean_v3mv2_thread(long[::1] y_np, long[::1] x_np, double[::1] result, int length):\n",
    "    cdef unordered_map[int, int] value_dict\n",
    "    cdef unordered_map[int, int] count_dict\n",
    "    cdef int i\n",
    "    for i in range(length):\n",
    "        value_dict[x_np[i]] = value_dict[x_np[i]] + y_np[i]\n",
    "        count_dict[x_np[i]] = count_dict[x_np[i]] + 1\n",
    "    for i in prange(length, nogil=True, num_threads=100):\n",
    "        result[i] = (value_dict[x_np[i]] - y_np[i]) / (count_dict[x_np[i]] - 1)\n",
    "    return result"
   ]
  },
  {
   "cell_type": "code",
   "execution_count": 43,
   "metadata": {},
   "outputs": [
    {
     "name": "stdout",
     "output_type": "stream",
     "text": [
      "174 µs ± 1.19 µs per loop (mean ± std. dev. of 7 runs, 10000 loops each)\n"
     ]
    }
   ],
   "source": [
    "%%timeit\n",
    "length = data.shape[0]\n",
    "result_tmp = np.zeros(data.shape[0])\n",
    "result_3mv2_thread = target_mean_v3mv2_thread(data['y'].values.copy(), data['x'].values.copy(), result_tmp, length)"
   ]
  },
  {
   "cell_type": "code",
   "execution_count": 28,
   "metadata": {},
   "outputs": [
    {
     "data": {
      "text/plain": [
       "0.0"
      ]
     },
     "execution_count": 28,
     "metadata": {},
     "output_type": "execute_result"
    }
   ],
   "source": [
    "length = data.shape[0]\n",
    "result_tmp = np.zeros(data.shape[0])\n",
    "result_3mv2_thread = target_mean_v3mv2_thread(data['y'].values.copy(), data['x'].values.copy(), result_tmp, length)\n",
    "np.linalg.norm(np.array(list(result_3mv2)) - list(result_3mv2_thread))"
   ]
  }
 ],
 "metadata": {
  "colab": {
   "name": "优化作业.ipynb",
   "provenance": []
  },
  "kernelspec": {
   "display_name": "Python 3",
   "language": "python",
   "name": "python3"
  },
  "language_info": {
   "codemirror_mode": {
    "name": "ipython",
    "version": 3
   },
   "file_extension": ".py",
   "mimetype": "text/x-python",
   "name": "python",
   "nbconvert_exporter": "python",
   "pygments_lexer": "ipython3",
   "version": "3.8.6"
  }
 },
 "nbformat": 4,
 "nbformat_minor": 1
}
